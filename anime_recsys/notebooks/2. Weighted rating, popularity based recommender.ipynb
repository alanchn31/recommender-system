{
 "cells": [
  {
   "cell_type": "code",
   "execution_count": 41,
   "id": "2f2eb458",
   "metadata": {},
   "outputs": [],
   "source": [
    "import numpy as np\n",
    "import pandas as pd\n",
    "import matplotlib.pyplot as plt\n",
    "import seaborn as sns"
   ]
  },
  {
   "cell_type": "code",
   "execution_count": 2,
   "id": "0a45b2dc",
   "metadata": {},
   "outputs": [],
   "source": [
    "anime = pd.read_csv(\"data/anime.csv\")\n",
    "rating = pd.read_csv(\"data/rating.csv\")"
   ]
  },
  {
   "cell_type": "code",
   "execution_count": 7,
   "id": "eb8ea8cd",
   "metadata": {},
   "outputs": [
    {
     "data": {
      "text/html": [
       "<div>\n",
       "<style scoped>\n",
       "    .dataframe tbody tr th:only-of-type {\n",
       "        vertical-align: middle;\n",
       "    }\n",
       "\n",
       "    .dataframe tbody tr th {\n",
       "        vertical-align: top;\n",
       "    }\n",
       "\n",
       "    .dataframe thead th {\n",
       "        text-align: right;\n",
       "    }\n",
       "</style>\n",
       "<table border=\"1\" class=\"dataframe\">\n",
       "  <thead>\n",
       "    <tr style=\"text-align: right;\">\n",
       "      <th></th>\n",
       "      <th>anime_id</th>\n",
       "      <th>name</th>\n",
       "      <th>genre</th>\n",
       "      <th>type</th>\n",
       "      <th>episodes</th>\n",
       "      <th>rating</th>\n",
       "      <th>members</th>\n",
       "    </tr>\n",
       "  </thead>\n",
       "  <tbody>\n",
       "    <tr>\n",
       "      <th>0</th>\n",
       "      <td>32281</td>\n",
       "      <td>Kimi no Na wa.</td>\n",
       "      <td>Drama, Romance, School, Supernatural</td>\n",
       "      <td>Movie</td>\n",
       "      <td>1</td>\n",
       "      <td>9.37</td>\n",
       "      <td>200630</td>\n",
       "    </tr>\n",
       "    <tr>\n",
       "      <th>1</th>\n",
       "      <td>5114</td>\n",
       "      <td>Fullmetal Alchemist: Brotherhood</td>\n",
       "      <td>Action, Adventure, Drama, Fantasy, Magic, Mili...</td>\n",
       "      <td>TV</td>\n",
       "      <td>64</td>\n",
       "      <td>9.26</td>\n",
       "      <td>793665</td>\n",
       "    </tr>\n",
       "    <tr>\n",
       "      <th>2</th>\n",
       "      <td>28977</td>\n",
       "      <td>Gintama°</td>\n",
       "      <td>Action, Comedy, Historical, Parody, Samurai, S...</td>\n",
       "      <td>TV</td>\n",
       "      <td>51</td>\n",
       "      <td>9.25</td>\n",
       "      <td>114262</td>\n",
       "    </tr>\n",
       "    <tr>\n",
       "      <th>3</th>\n",
       "      <td>9253</td>\n",
       "      <td>Steins;Gate</td>\n",
       "      <td>Sci-Fi, Thriller</td>\n",
       "      <td>TV</td>\n",
       "      <td>24</td>\n",
       "      <td>9.17</td>\n",
       "      <td>673572</td>\n",
       "    </tr>\n",
       "    <tr>\n",
       "      <th>4</th>\n",
       "      <td>9969</td>\n",
       "      <td>Gintama&amp;#039;</td>\n",
       "      <td>Action, Comedy, Historical, Parody, Samurai, S...</td>\n",
       "      <td>TV</td>\n",
       "      <td>51</td>\n",
       "      <td>9.16</td>\n",
       "      <td>151266</td>\n",
       "    </tr>\n",
       "  </tbody>\n",
       "</table>\n",
       "</div>"
      ],
      "text/plain": [
       "   anime_id                              name  \\\n",
       "0     32281                    Kimi no Na wa.   \n",
       "1      5114  Fullmetal Alchemist: Brotherhood   \n",
       "2     28977                          Gintama°   \n",
       "3      9253                       Steins;Gate   \n",
       "4      9969                     Gintama&#039;   \n",
       "\n",
       "                                               genre   type episodes  rating  \\\n",
       "0               Drama, Romance, School, Supernatural  Movie        1    9.37   \n",
       "1  Action, Adventure, Drama, Fantasy, Magic, Mili...     TV       64    9.26   \n",
       "2  Action, Comedy, Historical, Parody, Samurai, S...     TV       51    9.25   \n",
       "3                                   Sci-Fi, Thriller     TV       24    9.17   \n",
       "4  Action, Comedy, Historical, Parody, Samurai, S...     TV       51    9.16   \n",
       "\n",
       "   members  \n",
       "0   200630  \n",
       "1   793665  \n",
       "2   114262  \n",
       "3   673572  \n",
       "4   151266  "
      ]
     },
     "execution_count": 7,
     "metadata": {},
     "output_type": "execute_result"
    }
   ],
   "source": [
    "anime.head()"
   ]
  },
  {
   "cell_type": "code",
   "execution_count": 6,
   "id": "f86b4301",
   "metadata": {},
   "outputs": [
    {
     "data": {
      "text/html": [
       "<div>\n",
       "<style scoped>\n",
       "    .dataframe tbody tr th:only-of-type {\n",
       "        vertical-align: middle;\n",
       "    }\n",
       "\n",
       "    .dataframe tbody tr th {\n",
       "        vertical-align: top;\n",
       "    }\n",
       "\n",
       "    .dataframe thead th {\n",
       "        text-align: right;\n",
       "    }\n",
       "</style>\n",
       "<table border=\"1\" class=\"dataframe\">\n",
       "  <thead>\n",
       "    <tr style=\"text-align: right;\">\n",
       "      <th></th>\n",
       "      <th>user_id</th>\n",
       "      <th>anime_id</th>\n",
       "      <th>rating</th>\n",
       "    </tr>\n",
       "  </thead>\n",
       "  <tbody>\n",
       "    <tr>\n",
       "      <th>0</th>\n",
       "      <td>1</td>\n",
       "      <td>20</td>\n",
       "      <td>-1</td>\n",
       "    </tr>\n",
       "    <tr>\n",
       "      <th>1</th>\n",
       "      <td>1</td>\n",
       "      <td>24</td>\n",
       "      <td>-1</td>\n",
       "    </tr>\n",
       "    <tr>\n",
       "      <th>2</th>\n",
       "      <td>1</td>\n",
       "      <td>79</td>\n",
       "      <td>-1</td>\n",
       "    </tr>\n",
       "    <tr>\n",
       "      <th>3</th>\n",
       "      <td>1</td>\n",
       "      <td>226</td>\n",
       "      <td>-1</td>\n",
       "    </tr>\n",
       "    <tr>\n",
       "      <th>4</th>\n",
       "      <td>1</td>\n",
       "      <td>241</td>\n",
       "      <td>-1</td>\n",
       "    </tr>\n",
       "  </tbody>\n",
       "</table>\n",
       "</div>"
      ],
      "text/plain": [
       "   user_id  anime_id  rating\n",
       "0        1        20      -1\n",
       "1        1        24      -1\n",
       "2        1        79      -1\n",
       "3        1       226      -1\n",
       "4        1       241      -1"
      ]
     },
     "execution_count": 6,
     "metadata": {},
     "output_type": "execute_result"
    }
   ],
   "source": [
    "rating.head()"
   ]
  },
  {
   "cell_type": "markdown",
   "id": "7934c6b1",
   "metadata": {},
   "source": [
    "## 1. Recommender using Weighted Rating/Popularity\n",
    "\n",
    "We will use the weighted rating metric that  IMDB uses for its top 250 movies"
   ]
  },
  {
   "attachments": {
    "image.png": {
     "image/png": "[encoded data removed]"
    }
   },
   "cell_type": "markdown",
   "id": "122abba6",
   "metadata": {},
   "source": [
    "![image.png](attachment:image.png)"
   ]
  },
  {
   "cell_type": "code",
   "execution_count": 35,
   "id": "4a22bfa5",
   "metadata": {},
   "outputs": [
    {
     "name": "stdout",
     "output_type": "stream",
     "text": [
      "No. of rows dropped: 1476496\n"
     ]
    }
   ],
   "source": [
    "# To get the vote counts, we will first group rating data by the users (excluding those who have not left a rating)\n",
    "\n",
    "rating2 = rating[(rating['rating'] != -1) & ~(rating['rating'].isnull())]\n",
    "print(f'No. of rows dropped: {rating.shape[0] - rating2.shape[0]}')\n",
    "rating_votes = rating2.groupby(['anime_id']).agg({\"user_id\": \"count\", \"rating\": \"mean\"})\n",
    "rating_votes.rename(columns={'user_id': 'vote_counts', 'rating': 'average_rating'}, inplace=True)\n",
    "rating_votes.reset_index(inplace=True)"
   ]
  },
  {
   "cell_type": "code",
   "execution_count": 36,
   "id": "ce522dde",
   "metadata": {},
   "outputs": [],
   "source": [
    "# Calculate mean of vote average column\n",
    "C = rating_votes['average_rating'].mean()\n",
    "\n",
    "# minimum votes required to be counted in recommender\n",
    "m = rating_votes['vote_counts'].quantile(0.70)\n",
    "\n",
    "# Filter out all qualified animes into a new DataFrame\n",
    "q_animes = rating_votes.copy().loc[rating_votes['vote_counts'] >= m]"
   ]
  },
  {
   "cell_type": "code",
   "execution_count": 37,
   "id": "d4488fe5",
   "metadata": {},
   "outputs": [],
   "source": [
    "# Function that computes the weighted rating of each movie\n",
    "def weighted_rating(x, m=m, C=C):\n",
    "    v = x['vote_counts']\n",
    "    R = x['average_rating']\n",
    "    # Calculation based on the IMDB formula\n",
    "    return (v/(v+m) * R) + (m/(m+v) * C)\n",
    "\n",
    "\n",
    "# Define a new feature 'score' and calculate its value with `weighted_rating()`\n",
    "q_animes['score'] = q_animes.apply(weighted_rating, axis=1)"
   ]
  },
  {
   "cell_type": "code",
   "execution_count": 39,
   "id": "01de5992",
   "metadata": {},
   "outputs": [
    {
     "data": {
      "text/html": [
       "<div>\n",
       "<style scoped>\n",
       "    .dataframe tbody tr th:only-of-type {\n",
       "        vertical-align: middle;\n",
       "    }\n",
       "\n",
       "    .dataframe tbody tr th {\n",
       "        vertical-align: top;\n",
       "    }\n",
       "\n",
       "    .dataframe thead th {\n",
       "        text-align: right;\n",
       "    }\n",
       "</style>\n",
       "<table border=\"1\" class=\"dataframe\">\n",
       "  <thead>\n",
       "    <tr style=\"text-align: right;\">\n",
       "      <th></th>\n",
       "      <th>name</th>\n",
       "      <th>vote_counts</th>\n",
       "      <th>average_rating</th>\n",
       "      <th>score</th>\n",
       "    </tr>\n",
       "  </thead>\n",
       "  <tbody>\n",
       "    <tr>\n",
       "      <th>0</th>\n",
       "      <td>Fullmetal Alchemist: Brotherhood</td>\n",
       "      <td>21494</td>\n",
       "      <td>9.322741</td>\n",
       "      <td>9.291360</td>\n",
       "    </tr>\n",
       "    <tr>\n",
       "      <th>1</th>\n",
       "      <td>Steins;Gate</td>\n",
       "      <td>17151</td>\n",
       "      <td>9.261326</td>\n",
       "      <td>9.223012</td>\n",
       "    </tr>\n",
       "    <tr>\n",
       "      <th>2</th>\n",
       "      <td>Hunter x Hunter (2011)</td>\n",
       "      <td>7477</td>\n",
       "      <td>9.234586</td>\n",
       "      <td>9.149209</td>\n",
       "    </tr>\n",
       "    <tr>\n",
       "      <th>3</th>\n",
       "      <td>Clannad: After Story</td>\n",
       "      <td>15518</td>\n",
       "      <td>9.165292</td>\n",
       "      <td>9.124559</td>\n",
       "    </tr>\n",
       "    <tr>\n",
       "      <th>4</th>\n",
       "      <td>Kimi no Na wa.</td>\n",
       "      <td>1961</td>\n",
       "      <td>9.426313</td>\n",
       "      <td>9.106340</td>\n",
       "    </tr>\n",
       "    <tr>\n",
       "      <th>5</th>\n",
       "      <td>Gintama</td>\n",
       "      <td>4264</td>\n",
       "      <td>9.236398</td>\n",
       "      <td>9.090205</td>\n",
       "    </tr>\n",
       "    <tr>\n",
       "      <th>6</th>\n",
       "      <td>Gintama&amp;#039;</td>\n",
       "      <td>3115</td>\n",
       "      <td>9.272552</td>\n",
       "      <td>9.073775</td>\n",
       "    </tr>\n",
       "    <tr>\n",
       "      <th>7</th>\n",
       "      <td>Code Geass: Hangyaku no Lelouch R2</td>\n",
       "      <td>21124</td>\n",
       "      <td>9.059837</td>\n",
       "      <td>9.031039</td>\n",
       "    </tr>\n",
       "    <tr>\n",
       "      <th>8</th>\n",
       "      <td>Gintama°</td>\n",
       "      <td>1188</td>\n",
       "      <td>9.449495</td>\n",
       "      <td>8.953935</td>\n",
       "    </tr>\n",
       "    <tr>\n",
       "      <th>9</th>\n",
       "      <td>Gintama&amp;#039;: Enchousen</td>\n",
       "      <td>2126</td>\n",
       "      <td>9.202258</td>\n",
       "      <td>8.928394</td>\n",
       "    </tr>\n",
       "    <tr>\n",
       "      <th>10</th>\n",
       "      <td>Gintama Movie: Kanketsu-hen - Yorozuya yo Eien...</td>\n",
       "      <td>2147</td>\n",
       "      <td>9.191430</td>\n",
       "      <td>8.921108</td>\n",
       "    </tr>\n",
       "    <tr>\n",
       "      <th>11</th>\n",
       "      <td>Shigatsu wa Kimi no Uso</td>\n",
       "      <td>8271</td>\n",
       "      <td>8.984041</td>\n",
       "      <td>8.914086</td>\n",
       "    </tr>\n",
       "    <tr>\n",
       "      <th>12</th>\n",
       "      <td>Code Geass: Hangyaku no Lelouch</td>\n",
       "      <td>24126</td>\n",
       "      <td>8.927796</td>\n",
       "      <td>8.903921</td>\n",
       "    </tr>\n",
       "    <tr>\n",
       "      <th>13</th>\n",
       "      <td>Tengen Toppa Gurren Lagann</td>\n",
       "      <td>16955</td>\n",
       "      <td>8.933176</td>\n",
       "      <td>8.899273</td>\n",
       "    </tr>\n",
       "    <tr>\n",
       "      <th>14</th>\n",
       "      <td>Sen to Chihiro no Kamikakushi</td>\n",
       "      <td>19481</td>\n",
       "      <td>8.923259</td>\n",
       "      <td>8.893822</td>\n",
       "    </tr>\n",
       "    <tr>\n",
       "      <th>15</th>\n",
       "      <td>One Punch Man</td>\n",
       "      <td>11323</td>\n",
       "      <td>8.939680</td>\n",
       "      <td>8.889141</td>\n",
       "    </tr>\n",
       "    <tr>\n",
       "      <th>16</th>\n",
       "      <td>Ookami Kodomo no Ame to Yuki</td>\n",
       "      <td>6628</td>\n",
       "      <td>8.932257</td>\n",
       "      <td>8.847515</td>\n",
       "    </tr>\n",
       "    <tr>\n",
       "      <th>17</th>\n",
       "      <td>Suzumiya Haruhi no Shoushitsu</td>\n",
       "      <td>8192</td>\n",
       "      <td>8.907471</td>\n",
       "      <td>8.839166</td>\n",
       "    </tr>\n",
       "    <tr>\n",
       "      <th>18</th>\n",
       "      <td>Cowboy Bebop</td>\n",
       "      <td>13449</td>\n",
       "      <td>8.869433</td>\n",
       "      <td>8.828038</td>\n",
       "    </tr>\n",
       "    <tr>\n",
       "      <th>19</th>\n",
       "      <td>Hajime no Ippo</td>\n",
       "      <td>4273</td>\n",
       "      <td>8.954365</td>\n",
       "      <td>8.824299</td>\n",
       "    </tr>\n",
       "  </tbody>\n",
       "</table>\n",
       "</div>"
      ],
      "text/plain": [
       "                                                 name  vote_counts  \\\n",
       "0                    Fullmetal Alchemist: Brotherhood        21494   \n",
       "1                                         Steins;Gate        17151   \n",
       "2                              Hunter x Hunter (2011)         7477   \n",
       "3                                Clannad: After Story        15518   \n",
       "4                                      Kimi no Na wa.         1961   \n",
       "5                                             Gintama         4264   \n",
       "6                                       Gintama&#039;         3115   \n",
       "7                  Code Geass: Hangyaku no Lelouch R2        21124   \n",
       "8                                            Gintama°         1188   \n",
       "9                            Gintama&#039;: Enchousen         2126   \n",
       "10  Gintama Movie: Kanketsu-hen - Yorozuya yo Eien...         2147   \n",
       "11                            Shigatsu wa Kimi no Uso         8271   \n",
       "12                    Code Geass: Hangyaku no Lelouch        24126   \n",
       "13                         Tengen Toppa Gurren Lagann        16955   \n",
       "14                      Sen to Chihiro no Kamikakushi        19481   \n",
       "15                                      One Punch Man        11323   \n",
       "16                       Ookami Kodomo no Ame to Yuki         6628   \n",
       "17                      Suzumiya Haruhi no Shoushitsu         8192   \n",
       "18                                       Cowboy Bebop        13449   \n",
       "19                                     Hajime no Ippo         4273   \n",
       "\n",
       "    average_rating     score  \n",
       "0         9.322741  9.291360  \n",
       "1         9.261326  9.223012  \n",
       "2         9.234586  9.149209  \n",
       "3         9.165292  9.124559  \n",
       "4         9.426313  9.106340  \n",
       "5         9.236398  9.090205  \n",
       "6         9.272552  9.073775  \n",
       "7         9.059837  9.031039  \n",
       "8         9.449495  8.953935  \n",
       "9         9.202258  8.928394  \n",
       "10        9.191430  8.921108  \n",
       "11        8.984041  8.914086  \n",
       "12        8.927796  8.903921  \n",
       "13        8.933176  8.899273  \n",
       "14        8.923259  8.893822  \n",
       "15        8.939680  8.889141  \n",
       "16        8.932257  8.847515  \n",
       "17        8.907471  8.839166  \n",
       "18        8.869433  8.828038  \n",
       "19        8.954365  8.824299  "
      ]
     },
     "execution_count": 39,
     "metadata": {},
     "output_type": "execute_result"
    }
   ],
   "source": [
    "#Sort animes based on score calculated above\n",
    "q_animes = q_animes.sort_values('score', ascending=False)\n",
    "\n",
    "# Join dataframe with anime dataframe:\n",
    "q_animes = q_animes.merge(anime, on='anime_id', how='inner')\n",
    "\n",
    "#Print the top 15 animes\n",
    "q_animes[['name', 'vote_counts', 'average_rating', 'score']].head(20)"
   ]
  },
  {
   "cell_type": "code",
   "execution_count": 48,
   "id": "dff9d06b",
   "metadata": {},
   "outputs": [
    {
     "data": {
      "text/plain": [
       "Text(0, 0.5, 'Anime Title')"
      ]
     },
     "execution_count": 48,
     "metadata": {},
     "output_type": "execute_result"
    },
    {
     "data": {
      "image/png": "[encoded data removed]",
      "text/plain": [
       "<Figure size 864x432 with 1 Axes>"
      ]
     },
     "metadata": {
      "needs_background": "light"
     },
     "output_type": "display_data"
    }
   ],
   "source": [
    "q_animes = q_animes.sort_values('average_rating', ascending=False)\n",
    "\n",
    "plt.figure(figsize=(12,6))\n",
    "ax = sns.barplot(x=q_animes['average_rating'].head(10),\n",
    "                 y=q_animes['name'].head(10),\n",
    "                 data=q_animes)\n",
    "\n",
    "plt.xlim(5,10)\n",
    "plt.title('Top Animes by weighted average score', weight='bold')\n",
    "plt.xlabel('Weighted Average Score', weight='bold')\n",
    "plt.ylabel('Anime Title', weight='bold')"
   ]
  },
  {
   "cell_type": "markdown",
   "id": "65c9ce04",
   "metadata": {},
   "source": [
    "We can see that the top 2 animes are \"Gintama\" and \"Kimi no Na wa\" and they are indeed amazing animes!"
   ]
  },
  {
   "cell_type": "markdown",
   "id": "0f70ff55",
   "metadata": {},
   "source": [
    "This is a way to recommend animes to users, by recommending animes based on top weighted ratings"
   ]
  },
  {
   "cell_type": "code",
   "execution_count": 47,
   "id": "c0e81f01",
   "metadata": {},
   "outputs": [
    {
     "data": {
      "text/plain": [
       "Text(0, 0.5, 'Anime title')"
      ]
     },
     "execution_count": 47,
     "metadata": {},
     "output_type": "execute_result"
    },
    {
     "data": {
      "image/png": "[encoded data removed]",
      "text/plain": [
       "<Figure size 864x432 with 1 Axes>"
      ]
     },
     "metadata": {
      "needs_background": "light"
     },
     "output_type": "display_data"
    }
   ],
   "source": [
    "popularity = q_animes.sort_values('vote_counts', ascending=False)\n",
    "plt.figure(figsize=(12,6))\n",
    "ax=sns.barplot(x=popularity['vote_counts'].head(10), \n",
    "               y=popularity['name'].head(10), data=popularity)\n",
    "\n",
    "plt.title('Most popular by vote', weight='bold')\n",
    "plt.xlabel('Score of popularity', weight='bold')\n",
    "plt.ylabel('Anime title', weight='bold')"
   ]
  },
  {
   "cell_type": "markdown",
   "id": "f52cb804",
   "metadata": {},
   "source": [
    "Based on Popularity, Death Note won the game!   <br/>\n",
    "Based on Average-votes, Gintama is the best!"
   ]
  }
 ],
 "metadata": {
  "kernelspec": {
   "display_name": "Python 3",
   "language": "python",
   "name": "python3"
  },
  "language_info": {
   "codemirror_mode": {
    "name": "ipython",
    "version": 3
   },
   "file_extension": ".py",
   "mimetype": "text/x-python",
   "name": "python",
   "nbconvert_exporter": "python",
   "pygments_lexer": "ipython3",
   "version": "3.8.8"
  }
 },
 "nbformat": 4,
 "nbformat_minor": 5
}
